{
 "cells": [
  {
   "cell_type": "markdown",
   "source": [
    "# Getting Started with Data Fetching\n",
    "\n",
    "Welcome to **AKlite**! The best place to start is to learn about stock data fetch!"
   ],
   "metadata": {
    "collapsed": false
   }
  },
  {
   "cell_type": "markdown",
   "source": [
    "## import package"
   ],
   "metadata": {
    "collapsed": false
   }
  },
  {
   "cell_type": "code",
   "execution_count": null,
   "outputs": [],
   "source": [
    "import aklite as ai"
   ],
   "metadata": {
    "collapsed": false
   }
  },
  {
   "cell_type": "code",
   "execution_count": 48,
   "outputs": [],
   "source": [
    "stock_zh_a_hist_obj = ai.stock_zh_a_hist(symbols=[\"000001\", \"000002\"], period=\"daily\", start_date=\"20220101\",\n",
    "                                         end_date=\"20230601\", adjust=\"hfq\", timeout=5, proxies={})"
   ],
   "metadata": {
    "collapsed": false,
    "ExecuteTime": {
     "end_time": "2023-06-04T09:13:20.770532Z",
     "start_time": "2023-06-04T09:13:20.749935Z"
    }
   }
  },
  {
   "cell_type": "markdown",
   "source": [
    "## print data"
   ],
   "metadata": {
    "collapsed": false
   }
  },
  {
   "cell_type": "code",
   "execution_count": 49,
   "outputs": [
    {
     "name": "stdout",
     "output_type": "stream",
     "text": [
      "           date  symbol     open    close     high      low   volume   \n",
      "0    2022-01-04  000001  2847.30  2876.56  2876.56  2798.54  1169259  \\\n",
      "1    2022-01-05  000001  2863.55  2956.19  2967.57  2858.68  1961998   \n",
      "2    2022-01-06  000001  2949.69  2951.32  2975.70  2931.82  1107885   \n",
      "3    2022-01-07  000001  2948.07  2964.32  2977.32  2941.57  1126631   \n",
      "4    2022-01-10  000001  2978.95  2962.70  3000.08  2936.69   909774   \n",
      "..          ...     ...      ...      ...      ...      ...      ...   \n",
      "677  2023-05-26  000002  2932.56  2941.72  2945.65  2915.54   407754   \n",
      "678  2023-05-29  000002  2936.49  2918.16  2937.79  2914.23   443019   \n",
      "679  2023-05-30  000002  2912.92  2961.36  2961.36  2871.03   881969   \n",
      "680  2023-05-31  000002  2946.96  2945.65  2957.43  2922.09   451251   \n",
      "681  2023-06-01  000002  2932.56  2914.23  2940.41  2911.61   466628   \n",
      "\n",
      "         turnover  amplitude  price_change_rate  price_change  turnover_rate  \n",
      "0    1.918887e+09       2.74               1.03         29.26           0.60  \n",
      "1    3.344125e+09       3.79               2.77         79.63           1.01  \n",
      "2    1.896536e+09       1.48              -0.16         -4.87           0.57  \n",
      "3    1.937711e+09       1.21               0.44         13.00           0.58  \n",
      "4    1.563415e+09       2.14              -0.05         -1.62           0.47  \n",
      "..            ...        ...                ...           ...            ...  \n",
      "677  5.767348e+08       1.02               0.09          2.62           0.42  \n",
      "678  6.224551e+08       0.80              -0.80        -23.56           0.46  \n",
      "679  1.230122e+09       3.10               1.48         43.20           0.91  \n",
      "680  6.389365e+08       1.19              -0.53        -15.71           0.46  \n",
      "681  6.566527e+08       0.98              -1.07        -31.42           0.48  \n",
      "\n",
      "[682 rows x 12 columns]\n"
     ]
    }
   ],
   "source": [
    "# 获取数据\n",
    "print(stock_zh_a_hist_obj.data)"
   ],
   "metadata": {
    "collapsed": false,
    "ExecuteTime": {
     "end_time": "2023-06-04T09:13:21.063890Z",
     "start_time": "2023-06-04T09:13:20.761757Z"
    }
   }
  },
  {
   "cell_type": "code",
   "execution_count": 50,
   "outputs": [
    {
     "name": "stdout",
     "output_type": "stream",
     "text": [
      "['日期', '股票代码', '开盘', '收盘', '最高', '最低', '成交量', '成交额', '振幅', '涨跌幅', '涨跌额', '换手率']\n"
     ]
    }
   ],
   "source": [
    "# 获取中文字段名\n",
    "print(stock_zh_a_hist_obj.columns)"
   ],
   "metadata": {
    "collapsed": false,
    "ExecuteTime": {
     "end_time": "2023-06-04T09:13:21.074357Z",
     "start_time": "2023-06-04T09:13:21.064787Z"
    }
   }
  },
  {
   "cell_type": "code",
   "execution_count": 51,
   "outputs": [
    {
     "name": "stdout",
     "output_type": "stream",
     "text": [
      "https://quote.eastmoney.com/sh601658.html\n"
     ]
    }
   ],
   "source": [
    "# 获取目标网站链接\n",
    "print(stock_zh_a_hist_obj.url)"
   ],
   "metadata": {
    "collapsed": false,
    "ExecuteTime": {
     "end_time": "2023-06-04T09:13:21.074645Z",
     "start_time": "2023-06-04T09:13:21.069076Z"
    }
   }
  },
  {
   "cell_type": "code",
   "execution_count": 52,
   "outputs": [
    {
     "name": "stdout",
     "output_type": "stream",
     "text": [
      "东方财富-股票行情-日行情\n"
     ]
    }
   ],
   "source": [
    "# 获取数据描述\n",
    "print(stock_zh_a_hist_obj.desc)"
   ],
   "metadata": {
    "collapsed": false,
    "ExecuteTime": {
     "end_time": "2023-06-04T09:13:21.074829Z",
     "start_time": "2023-06-04T09:13:21.071422Z"
    }
   }
  },
  {
   "cell_type": "code",
   "execution_count": 53,
   "outputs": [
    {
     "name": "stdout",
     "output_type": "stream",
     "text": [
      "['000001', '000002']\n",
      "daily\n",
      "20220101\n",
      "20230601\n",
      "hfq\n"
     ]
    }
   ],
   "source": [
    "# 获取相关接口信息\n",
    "print(stock_zh_a_hist_obj.symbols)\n",
    "print(stock_zh_a_hist_obj.period)\n",
    "print(stock_zh_a_hist_obj.start_date)\n",
    "print(stock_zh_a_hist_obj.end_date)\n",
    "print(stock_zh_a_hist_obj.adjust)"
   ],
   "metadata": {
    "collapsed": false,
    "ExecuteTime": {
     "end_time": "2023-06-04T09:13:21.078266Z",
     "start_time": "2023-06-04T09:13:21.075127Z"
    }
   }
  }
 ],
 "metadata": {
  "kernelspec": {
   "display_name": "Python 3",
   "language": "python",
   "name": "python3"
  },
  "language_info": {
   "codemirror_mode": {
    "name": "ipython",
    "version": 2
   },
   "file_extension": ".py",
   "mimetype": "text/x-python",
   "name": "python",
   "nbconvert_exporter": "python",
   "pygments_lexer": "ipython2",
   "version": "2.7.6"
  }
 },
 "nbformat": 4,
 "nbformat_minor": 0
}
